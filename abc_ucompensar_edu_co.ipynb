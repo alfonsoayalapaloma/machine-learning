{
  "metadata": {
    "kernelspec": {
      "language": "python",
      "display_name": "Python 3",
      "name": "python3"
    },
    "language_info": {
      "name": "python",
      "version": "3.10.14",
      "mimetype": "text/x-python",
      "codemirror_mode": {
        "name": "ipython",
        "version": 3
      },
      "pygments_lexer": "ipython3",
      "nbconvert_exporter": "python",
      "file_extension": ".py"
    },
    "kaggle": {
      "accelerator": "none",
      "dataSources": [],
      "dockerImageVersionId": 30786,
      "isInternetEnabled": true,
      "language": "python",
      "sourceType": "notebook",
      "isGpuEnabled": false
    },
    "colab": {
      "provenance": [],
      "include_colab_link": true
    }
  },
  "nbformat_minor": 0,
  "nbformat": 4,
  "cells": [
    {
      "cell_type": "markdown",
      "metadata": {
        "id": "view-in-github",
        "colab_type": "text"
      },
      "source": [
        "<a href=\"https://colab.research.google.com/github/alfonsoayalapaloma/ml-2024/blob/main/abc_ucompensar_edu_co.ipynb\" target=\"_parent\"><img src=\"https://colab.research.google.com/assets/colab-badge.svg\" alt=\"Open In Colab\"/></a>"
      ]
    },
    {
      "cell_type": "markdown",
      "source": [
        "## EXAMEN FINAL\n",
        "\n",
        "Machine Learning"
      ],
      "metadata": {
        "id": "Cir34zyRld_f"
      }
    },
    {
      "cell_type": "markdown",
      "source": [
        "Usted es un ingeniero de Machine Learning y ha sido contratado por \"Tu pareja.com\", un servicio que hace match de parejas por internet. Uno de los filtros de los prospectos es que ganen mas de 50k (50.000) Libras esterlinas al año.\n",
        "Su misión es diseñar un modelo capaz determinar si la persona con los datos dados es un buen prospecto o no (usando el filtro de los 50k).\n",
        "\n",
        "Indique el accuracy de su modelo.\n",
        "Guarde su archivo .ipynb con el nombre:\n",
        "\n",
        "*   \"su_correo\".ipynb\n",
        "\n",
        "\n",
        "*   Ejemplo: si su correo es: abc@ucompensar.edu.co el nombre del archivo será: abc@ucompensar.edu.co.ipynb\n",
        "\n",
        "y envielo al correo:\n",
        "\n",
        "```\n",
        "# email=\"alfonsoayalapaloma@gmail.com\"\n",
        "```\n",
        "\n",
        "\n"
      ],
      "metadata": {
        "id": "abR3lcQqlbZG"
      }
    },
    {
      "cell_type": "code",
      "source": [
        "import pandas as pd\n",
        "url=\"https://raw.githubusercontent.com/alfonsoayalapaloma/datasets/refs/heads/main/adult.csv\"\n",
        "df=pd.read_csv(url)\n",
        "\n",
        "# Transformadores de variables \"object\" en numericas\n",
        "label_encoders = {}\n",
        "for column in df.select_dtypes(include=['object']).columns:\n",
        "    label_encoders[column] = LabelEncoder()\n",
        "    df[column] = label_encoders[column].fit_transform(df[column])\n"
      ],
      "metadata": {
        "trusted": true,
        "id": "DFgFg_rilbZH"
      },
      "outputs": [],
      "execution_count": null
    },
    {
      "cell_type": "code",
      "source": [
        "#Escriba aqui su codigo. #Recuerde crear un \"scaler\" de tipo StandarScaler\n"
      ],
      "metadata": {
        "trusted": true,
        "id": "lMh4JixYlbZI"
      },
      "outputs": [],
      "execution_count": null
    },
    {
      "cell_type": "code",
      "source": [
        "#Este codigo va al final de su propio codigo.\n",
        "#Recuerde que debe crear un model (clasificador)\n",
        "# entrenarlo y ponerlo\n",
        "\n",
        "#Data del candidato\n",
        "new_data = pd.DataFrame([{\n",
        "    'age': 39,\n",
        "    'workclass': 'State-gov',\n",
        "    'fnlwgt': 77516,\n",
        "    'education': 'Bachelors',\n",
        "    'education-num': 13,\n",
        "    'marital-status': 'Never-married',\n",
        "    'occupation': 'Adm-clerical',\n",
        "    'relationship': 'Not-in-family',\n",
        "    'race': 'White',\n",
        "    'sex': 'Male',\n",
        "    'capital-gain': 2174,\n",
        "    'capital-loss': 0,\n",
        "    'hours-per-week': 40,\n",
        "    'native-country': 'United-States'\n",
        "}])\n",
        "# Transformar a numero y escalar la data con un scaler que usted debe crear.\n",
        "for column in new_data.select_dtypes(include=['object']).columns:\n",
        "    new_data[column] = label_encoders[column].transform(new_data[column])\n",
        "new_data = scaler.transform(new_data)\n",
        "\n",
        "# Predecir si gana o no mas de 50K, con un modelo (model) que usted debe crear.\n",
        "new_prediction = model.predict(new_data)\n",
        "print(f\"La prediccion es: {new_prediction[0]}\")\n"
      ],
      "metadata": {
        "trusted": true,
        "id": "aCpVdieQlbZI"
      },
      "outputs": [],
      "execution_count": null
    },
    {
      "cell_type": "code",
      "source": [],
      "metadata": {
        "trusted": true,
        "execution": {
          "iopub.status.busy": "2024-11-22T18:42:21.105950Z",
          "iopub.execute_input": "2024-11-22T18:42:21.107020Z",
          "iopub.status.idle": "2024-11-22T18:42:23.108094Z",
          "shell.execute_reply.started": "2024-11-22T18:42:21.106949Z",
          "shell.execute_reply": "2024-11-22T18:42:23.107014Z"
        },
        "id": "JW43kPBzlbZI"
      },
      "outputs": [],
      "execution_count": null
    },
    {
      "cell_type": "code",
      "source": [],
      "metadata": {
        "trusted": true,
        "id": "nEJ02t3glbZJ"
      },
      "outputs": [],
      "execution_count": null
    }
  ]
}