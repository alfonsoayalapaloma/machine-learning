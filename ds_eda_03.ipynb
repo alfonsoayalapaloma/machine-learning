{
  "metadata": {
    "kernelspec": {
      "display_name": "Python 3",
      "language": "python",
      "name": "python3"
    },
    "language_info": {
      "name": "python",
      "version": "3.10.14",
      "mimetype": "text/x-python",
      "codemirror_mode": {
        "name": "ipython",
        "version": 3
      },
      "pygments_lexer": "ipython3",
      "nbconvert_exporter": "python",
      "file_extension": ".py"
    },
    "colab": {
      "provenance": [],
      "include_colab_link": true
    },
    "kaggle": {
      "accelerator": "none",
      "dataSources": [],
      "dockerImageVersionId": 30786,
      "isInternetEnabled": true,
      "language": "python",
      "sourceType": "notebook",
      "isGpuEnabled": false
    }
  },
  "nbformat_minor": 0,
  "nbformat": 4,
  "cells": [
    {
      "cell_type": "markdown",
      "metadata": {
        "id": "view-in-github",
        "colab_type": "text"
      },
      "source": [
        "<a href=\"https://colab.research.google.com/github/alfonsoayalapaloma/ml-2024/blob/main/ds_eda_03.ipynb\" target=\"_parent\"><img src=\"https://colab.research.google.com/assets/colab-badge.svg\" alt=\"Open In Colab\"/></a>"
      ]
    },
    {
      "cell_type": "markdown",
      "source": [
        "<img src=\"https://pandas.pydata.org/static/img/pandas.svg\" width=\"250\">\n",
        "\n",
        "\n",
        "\n",
        "## <center> Pandas Statistical Functions"
      ],
      "metadata": {
        "id": "5sS6I8ssJuwV"
      }
    },
    {
      "cell_type": "code",
      "source": [
        "import pandas as pd\n",
        "import seaborn as sns"
      ],
      "metadata": {
        "id": "4IQHnQwnFU-H",
        "trusted": true,
        "execution": {
          "iopub.status.busy": "2024-11-01T22:25:30.966871Z",
          "iopub.execute_input": "2024-11-01T22:25:30.967330Z",
          "iopub.status.idle": "2024-11-01T22:25:30.973816Z",
          "shell.execute_reply.started": "2024-11-01T22:25:30.967291Z",
          "shell.execute_reply": "2024-11-01T22:25:30.972372Z"
        }
      },
      "outputs": [],
      "execution_count": null
    },
    {
      "cell_type": "code",
      "source": [
        "iris = sns.load_dataset('iris')\n",
        "\n",
        "iris.head(3)"
      ],
      "metadata": {
        "id": "RkVICmjZFYMC",
        "trusted": true,
        "execution": {
          "iopub.status.busy": "2024-11-01T22:25:30.975923Z",
          "iopub.execute_input": "2024-11-01T22:25:30.976329Z",
          "iopub.status.idle": "2024-11-01T22:25:31.000810Z",
          "shell.execute_reply.started": "2024-11-01T22:25:30.976284Z",
          "shell.execute_reply": "2024-11-01T22:25:30.999440Z"
        }
      },
      "outputs": [],
      "execution_count": null
    },
    {
      "cell_type": "markdown",
      "source": [
        "### Measures of Central Tendency"
      ],
      "metadata": {
        "id": "YXXRdGZlK3qS"
      }
    },
    {
      "cell_type": "code",
      "source": [
        "numeric_cols=[\"sepal_length\",\"sepal_width\",\"petal_length\",\"petal_width\"]\n",
        "iris[numeric_cols].mean()"
      ],
      "metadata": {
        "id": "8iVyKcWqGPxe",
        "trusted": true,
        "execution": {
          "iopub.status.busy": "2024-11-01T22:25:31.002116Z",
          "iopub.execute_input": "2024-11-01T22:25:31.002485Z",
          "iopub.status.idle": "2024-11-01T22:25:31.014021Z",
          "shell.execute_reply.started": "2024-11-01T22:25:31.002449Z",
          "shell.execute_reply": "2024-11-01T22:25:31.012654Z"
        }
      },
      "outputs": [],
      "execution_count": null
    },
    {
      "cell_type": "code",
      "source": [
        "iris[numeric_cols].median()"
      ],
      "metadata": {
        "id": "c3K1jdn_G618",
        "trusted": true,
        "execution": {
          "iopub.status.busy": "2024-11-01T22:25:31.015650Z",
          "iopub.execute_input": "2024-11-01T22:25:31.016101Z",
          "iopub.status.idle": "2024-11-01T22:25:31.033812Z",
          "shell.execute_reply.started": "2024-11-01T22:25:31.016048Z",
          "shell.execute_reply": "2024-11-01T22:25:31.032479Z"
        }
      },
      "outputs": [],
      "execution_count": null
    },
    {
      "cell_type": "code",
      "source": [
        "iris[numeric_cols].mode()"
      ],
      "metadata": {
        "id": "EmD-4h_fKGlk",
        "trusted": true,
        "execution": {
          "iopub.status.busy": "2024-11-01T22:25:31.037251Z",
          "iopub.execute_input": "2024-11-01T22:25:31.038244Z",
          "iopub.status.idle": "2024-11-01T22:25:31.053994Z",
          "shell.execute_reply.started": "2024-11-01T22:25:31.038198Z",
          "shell.execute_reply": "2024-11-01T22:25:31.052855Z"
        }
      },
      "outputs": [],
      "execution_count": null
    },
    {
      "cell_type": "code",
      "source": [],
      "metadata": {
        "id": "Tr5R7uCFSjUz",
        "trusted": true
      },
      "outputs": [],
      "execution_count": null
    },
    {
      "cell_type": "markdown",
      "source": [
        "### Variance Measures"
      ],
      "metadata": {
        "id": "RJzPIPo_K7VW"
      }
    },
    {
      "cell_type": "code",
      "source": [
        "iris[numeric_cols].std()"
      ],
      "metadata": {
        "id": "iML93J9bHBni",
        "trusted": true,
        "execution": {
          "iopub.status.busy": "2024-11-01T22:25:31.055239Z",
          "iopub.execute_input": "2024-11-01T22:25:31.055565Z",
          "iopub.status.idle": "2024-11-01T22:25:31.071723Z",
          "shell.execute_reply.started": "2024-11-01T22:25:31.055531Z",
          "shell.execute_reply": "2024-11-01T22:25:31.070642Z"
        }
      },
      "outputs": [],
      "execution_count": null
    },
    {
      "cell_type": "code",
      "source": [
        "iris[numeric_cols].boxplot();"
      ],
      "metadata": {
        "id": "O01hqFIhNBOT",
        "trusted": true,
        "execution": {
          "iopub.status.busy": "2024-11-01T22:25:31.073807Z",
          "iopub.execute_input": "2024-11-01T22:25:31.074261Z",
          "iopub.status.idle": "2024-11-01T22:25:31.321971Z",
          "shell.execute_reply.started": "2024-11-01T22:25:31.074211Z",
          "shell.execute_reply": "2024-11-01T22:25:31.320828Z"
        }
      },
      "outputs": [],
      "execution_count": null
    },
    {
      "cell_type": "markdown",
      "source": [
        "### Quick insights with `describe()`"
      ],
      "metadata": {
        "id": "no5zNkQXNKvC"
      }
    },
    {
      "cell_type": "code",
      "source": [
        "iris.describe()"
      ],
      "metadata": {
        "id": "zRv8Cbf0FeQw",
        "trusted": true,
        "execution": {
          "iopub.status.busy": "2024-11-01T22:25:31.324019Z",
          "iopub.execute_input": "2024-11-01T22:25:31.324413Z",
          "iopub.status.idle": "2024-11-01T22:25:31.349820Z",
          "shell.execute_reply.started": "2024-11-01T22:25:31.324373Z",
          "shell.execute_reply": "2024-11-01T22:25:31.348542Z"
        }
      },
      "outputs": [],
      "execution_count": null
    },
    {
      "cell_type": "markdown",
      "source": [
        "### Relationship between variables"
      ],
      "metadata": {
        "id": "S8SrOgcLNZ3G"
      }
    },
    {
      "cell_type": "code",
      "source": [
        "iris[numeric_cols].corr()"
      ],
      "metadata": {
        "id": "SoGdIY9sFgmP",
        "trusted": true,
        "execution": {
          "iopub.status.busy": "2024-11-01T22:25:31.351579Z",
          "iopub.execute_input": "2024-11-01T22:25:31.352046Z",
          "iopub.status.idle": "2024-11-01T22:25:31.369055Z",
          "shell.execute_reply.started": "2024-11-01T22:25:31.351993Z",
          "shell.execute_reply": "2024-11-01T22:25:31.367878Z"
        }
      },
      "outputs": [],
      "execution_count": null
    },
    {
      "cell_type": "code",
      "source": [
        "iris[numeric_cols].corr().style.background_gradient(cmap='RdYlGn', axis=None)"
      ],
      "metadata": {
        "id": "LApEAwG5IFPf",
        "trusted": true,
        "execution": {
          "iopub.status.busy": "2024-11-01T22:25:31.371167Z",
          "iopub.execute_input": "2024-11-01T22:25:31.371626Z",
          "iopub.status.idle": "2024-11-01T22:25:31.477800Z",
          "shell.execute_reply.started": "2024-11-01T22:25:31.371575Z",
          "shell.execute_reply": "2024-11-01T22:25:31.476411Z"
        }
      },
      "outputs": [],
      "execution_count": null
    },
    {
      "cell_type": "code",
      "source": [],
      "metadata": {
        "id": "3-WYbxXhl22k",
        "trusted": true
      },
      "outputs": [],
      "execution_count": null
    }
  ]
}