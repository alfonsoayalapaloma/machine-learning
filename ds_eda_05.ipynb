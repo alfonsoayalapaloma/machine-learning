{
  "metadata": {
    "kernelspec": {
      "language": "python",
      "display_name": "Python 3",
      "name": "python3"
    },
    "language_info": {
      "name": "python",
      "version": "3.10.14",
      "mimetype": "text/x-python",
      "codemirror_mode": {
        "name": "ipython",
        "version": 3
      },
      "pygments_lexer": "ipython3",
      "nbconvert_exporter": "python",
      "file_extension": ".py"
    },
    "kaggle": {
      "accelerator": "none",
      "dataSources": [],
      "dockerImageVersionId": 30786,
      "isInternetEnabled": true,
      "language": "python",
      "sourceType": "notebook",
      "isGpuEnabled": false
    },
    "colab": {
      "provenance": [],
      "include_colab_link": true
    }
  },
  "nbformat_minor": 0,
  "nbformat": 4,
  "cells": [
    {
      "cell_type": "markdown",
      "metadata": {
        "id": "view-in-github",
        "colab_type": "text"
      },
      "source": [
        "<a href=\"https://colab.research.google.com/github/alfonsoayalapaloma/ml-2024/blob/main/ds_eda_05.ipynb\" target=\"_parent\"><img src=\"https://colab.research.google.com/assets/colab-badge.svg\" alt=\"Open In Colab\"/></a>"
      ]
    },
    {
      "cell_type": "markdown",
      "source": [
        "<img src=\"https://pandas.pydata.org/static/img/pandas.svg\" width=\"250\">\n",
        "\n",
        "\n",
        "## <center> Regression"
      ],
      "metadata": {
        "id": "MU1jwTyWZkIY"
      }
    },
    {
      "cell_type": "markdown",
      "source": [
        "## TIPS Dataset\n",
        "\n",
        "The `tips` dataset is a popular dataset included in the seaborn library, often used for demonstrating data visualization and statistical analysis techniques. It contains information about tips received by waitstaff in a restaurant, along with various attributes related to the dining experience.\n",
        "\n",
        "### Overview\n",
        "The dataset consists of 244 observations and 7 variables. Here are the details of each variable:\n",
        "\n",
        "1. **total_bill**: The total bill (cost of the meal) in dollars.\n",
        "2. **tip**: The tip amount in dollars.\n",
        "3. **sex**: The gender of the person paying the bill (either \"Male\" or \"Female\").\n",
        "4. **smoker**: Whether the person was a smoker or not (either \"Yes\" or \"No\").\n",
        "5. **day**: The day of the week when the meal was served (either \"Thur\", \"Fri\", \"Sat\", or \"Sun\").\n",
        "6. **time**: The time of day when the meal was served (either \"Lunch\" or \"Dinner\").\n",
        "7. **size**: The size of the dining party.\n",
        "\n",
        "### Example\n",
        "Here's a small sample of what the dataset looks like:\n",
        "\n",
        "| total_bill | tip  | sex   | smoker | day  | time   | size |\n",
        "|------------|------|-------|--------|------|--------|------|\n",
        "| 16.99      | 1.01 | Female| No     | Sun  | Dinner | 2    |\n",
        "| 10.34      | 1.66 | Male  | No     | Sun  | Dinner | 3    |\n",
        "| 21.01      | 3.50 | Male  | No     | Sun  | Dinner | 3    |\n",
        "| 23.68      | 3.31 | Male  | No     | Sun  | Dinner | 2    |\n",
        "| 24.59      | 3.61 | Female| No     | Sun  | Dinner | 4    |\n",
        "\n",
        "### Applications\n",
        "The `tips` dataset is commonly used for:\n",
        "- **Data Visualization**: Creating various plots to explore relationships between variables (e.g., scatter plots, bar plots, box plots).\n",
        "- **Statistical Analysis**: Performing statistical tests to understand the significance of relationships between variables.\n",
        "- **Machine Learning**: Building and evaluating predictive models (e.g., predicting tip amount based on other features).\n",
        "\n",
        "### Example Analysis\n",
        "For instance, you might use the `tips` dataset to explore questions like:\n",
        "- How does the tip amount vary with the total bill?\n",
        "- Are tips higher during dinner compared to lunch?\n",
        "- Do smoking and non-smoking customers tip differently?\n",
        "- Is there a difference in tipping p with an analysis, feel free to ask!"
      ],
      "metadata": {
        "id": "M-CNQf9JZkIY"
      }
    },
    {
      "cell_type": "code",
      "source": [
        "import seaborn as sns\n",
        "import pandas as pd\n",
        "import matplotlib.pyplot as plt\n",
        "\n",
        "# Load the tips dataset from seaborn\n",
        "tips = sns.load_dataset('tips')\n",
        "\n",
        "# Display the first few rows of the dataset\n",
        "print(\"First few rows of the dataset:\")\n",
        "print(tips.head())\n",
        "\n",
        "cols=[\"total_bill\",\"tip\",\"size\"]"
      ],
      "metadata": {
        "trusted": true,
        "execution": {
          "iopub.status.busy": "2024-11-02T03:31:46.854506Z",
          "iopub.execute_input": "2024-11-02T03:31:46.855568Z",
          "iopub.status.idle": "2024-11-02T03:31:48.059369Z",
          "shell.execute_reply.started": "2024-11-02T03:31:46.855501Z",
          "shell.execute_reply": "2024-11-02T03:31:48.058042Z"
        },
        "id": "hJHakWygZkIZ"
      },
      "outputs": [],
      "execution_count": null
    },
    {
      "cell_type": "code",
      "source": [
        "# Display basic statistics of the dataset\n",
        "print(\"\\nBasic statistics of the dataset:\")\n",
        "print(tips.describe())\n"
      ],
      "metadata": {
        "trusted": true,
        "id": "uwssk700ZkIZ"
      },
      "outputs": [],
      "execution_count": null
    },
    {
      "cell_type": "code",
      "source": [
        "# Display information about the dataset\n",
        "print(\"\\nInformation about the dataset:\")\n",
        "print(tips.info())"
      ],
      "metadata": {
        "trusted": true,
        "id": "mciM9rITZkIa"
      },
      "outputs": [],
      "execution_count": null
    },
    {
      "cell_type": "code",
      "source": [
        "# Check for missing values\n",
        "print(\"\\nMissing values in the dataset:\")\n",
        "print(tips.isnull().sum())\n"
      ],
      "metadata": {
        "trusted": true,
        "id": "lmKxqnsaZkIa"
      },
      "outputs": [],
      "execution_count": null
    },
    {
      "cell_type": "code",
      "source": [
        "# Distribution of total_bill\n",
        "plt.figure(figsize=(10, 6))\n",
        "sns.histplot(tips['total_bill'], kde=True)\n",
        "plt.title('Distribution of Total Bill')\n",
        "plt.xlabel('Total Bill')\n",
        "plt.ylabel('Frequency')\n",
        "plt.show()\n"
      ],
      "metadata": {
        "trusted": true,
        "id": "TUT2PiR1ZkIa"
      },
      "outputs": [],
      "execution_count": null
    },
    {
      "cell_type": "code",
      "source": [
        "# Distribution of tip\n",
        "plt.figure(figsize=(10, 6))\n",
        "sns.histplot(tips['tip'], kde=True)\n",
        "plt.title('Distribution of Tip')\n",
        "plt.xlabel('Tip')\n",
        "plt.ylabel('Frequency')\n",
        "plt.show()\n"
      ],
      "metadata": {
        "trusted": true,
        "id": "sZKNz1UiZkIa"
      },
      "outputs": [],
      "execution_count": null
    },
    {
      "cell_type": "code",
      "source": [
        "sns.set_theme(style=\"ticks\")\n",
        "cols_to_plot=[\"total_bill\",\"tip\",\"size\"]\n",
        "sns.pairplot(tips[cols_to_plot], kind='reg', diag_kind='kde',\n",
        "             plot_kws={'line_kws':{'color':'red'}})"
      ],
      "metadata": {
        "trusted": true,
        "id": "Y-3jWKnAZkIa"
      },
      "outputs": [],
      "execution_count": null
    },
    {
      "cell_type": "code",
      "source": [
        "# Box plot of total_bill by day\n",
        "plt.figure(figsize=(10, 6))\n",
        "sns.boxplot(x='day', y='total_bill', data=tips)\n",
        "plt.title('Box Plot of Total Bill by Day')\n",
        "plt.xlabel('Day')\n",
        "plt.ylabel('Total Bill')\n",
        "plt.show()\n"
      ],
      "metadata": {
        "trusted": true,
        "id": "YsQVnCrvZkIa"
      },
      "outputs": [],
      "execution_count": null
    },
    {
      "cell_type": "code",
      "source": [
        "# Box plot of tip by day\n",
        "plt.figure(figsize=(10, 6))\n",
        "sns.boxplot(x='day', y='tip', data=tips)\n",
        "plt.title('Box Plot of Tip by Day')\n",
        "plt.xlabel('Day')\n",
        "plt.ylabel('Tip')\n",
        "plt.show()\n"
      ],
      "metadata": {
        "trusted": true,
        "id": "rnup0XR_ZkIa"
      },
      "outputs": [],
      "execution_count": null
    },
    {
      "cell_type": "code",
      "source": [
        "# Scatter plot of total_bill vs. tip\n",
        "plt.figure(figsize=(10, 6))\n",
        "sns.scatterplot(x='total_bill', y='tip', data=tips, label='Data Points')\n",
        "plt.title('Scatter Plot and Linear Fit of Total Bill vs. Tip')\n",
        "plt.xlabel('Total Bill')\n",
        "plt.ylabel('Tip')\n",
        "plt.legend()\n",
        "plt.show()\n"
      ],
      "metadata": {
        "trusted": true,
        "id": "IYicBAuIZkIa"
      },
      "outputs": [],
      "execution_count": null
    },
    {
      "cell_type": "code",
      "source": [
        "def least_squares_slope(points):\n",
        "    n = len(points)\n",
        "    sum_x = sum(point[0] for point in points)\n",
        "    sum_y = sum(point[1] for point in points)\n",
        "    sum_x_squared = sum(point[0]**2 for point in points)\n",
        "    sum_xy = sum(point[0] * point[1] for point in points)\n",
        "\n",
        "    # Calculate the slope (m)\n",
        "    slope = (n * sum_xy - sum_x * sum_y) / (n * sum_x_squared - sum_x**2)\n",
        "\n",
        "    # Calculate the intercept (b)\n",
        "    intercept = (sum_y - slope * sum_x) / n\n",
        "\n",
        "    return slope, intercept\n"
      ],
      "metadata": {
        "trusted": true,
        "execution": {
          "iopub.status.busy": "2024-11-02T03:32:07.868733Z",
          "iopub.execute_input": "2024-11-02T03:32:07.869351Z",
          "iopub.status.idle": "2024-11-02T03:32:07.878640Z",
          "shell.execute_reply.started": "2024-11-02T03:32:07.869300Z",
          "shell.execute_reply": "2024-11-02T03:32:07.877061Z"
        },
        "id": "P0YJPeHwZkIa"
      },
      "outputs": [],
      "execution_count": null
    },
    {
      "cell_type": "code",
      "source": [
        "# Convert to a list of (x, y) points where x = total_bill and y = tip\n",
        "points = list(zip(tips['total_bill'], tips['tip']))\n",
        "\n",
        "slope, intercept = least_squares_slope(points)\n",
        "print(\"Slope:\", slope)\n",
        "print(\"Intercept:\", intercept)"
      ],
      "metadata": {
        "trusted": true,
        "execution": {
          "iopub.status.busy": "2024-11-02T03:32:14.474377Z",
          "iopub.execute_input": "2024-11-02T03:32:14.474783Z",
          "iopub.status.idle": "2024-11-02T03:32:14.481864Z",
          "shell.execute_reply.started": "2024-11-02T03:32:14.474745Z",
          "shell.execute_reply": "2024-11-02T03:32:14.480647Z"
        },
        "id": "xHy0XpIiZkIb"
      },
      "outputs": [],
      "execution_count": null
    },
    {
      "cell_type": "code",
      "source": [
        "import numpy as np\n",
        "\n",
        "# Create a line based on the slope and intercept\n",
        "x_vals = np.array(tips['total_bill'])\n",
        "y_vals = slope * x_vals + intercept\n",
        "\n",
        "# Plot the regression line\n",
        "plt.plot(x_vals, y_vals, color='red', label='Best fit line')\n",
        "\n",
        "# Add labels and legend\n",
        "plt.xlabel(\"Total Bill\")\n",
        "plt.ylabel(\"Tip\")\n",
        "plt.title(\"Total Bill vs Tip with Least Squares Regression Line\")\n",
        "plt.legend()\n",
        "\n",
        "plt.show()"
      ],
      "metadata": {
        "trusted": true,
        "execution": {
          "iopub.status.busy": "2024-11-02T03:38:24.090908Z",
          "iopub.execute_input": "2024-11-02T03:38:24.091480Z",
          "iopub.status.idle": "2024-11-02T03:38:24.393414Z",
          "shell.execute_reply.started": "2024-11-02T03:38:24.091426Z",
          "shell.execute_reply": "2024-11-02T03:38:24.392020Z"
        },
        "id": "FHF7cuc2ZkIb"
      },
      "outputs": [],
      "execution_count": null
    },
    {
      "cell_type": "code",
      "source": [
        "# Box plot of total_bill by time (Lunch/Dinner)\n",
        "plt.figure(figsize=(10, 6))\n",
        "sns.boxplot(x='time', y='total_bill', data=tips)\n",
        "plt.title('Box Plot of Total Bill by Time (Lunch/Dinner)')\n",
        "plt.xlabel('Time')\n",
        "plt.ylabel('Total Bill')\n",
        "plt.show()\n"
      ],
      "metadata": {
        "trusted": true,
        "id": "Ch3ZBwCmZkIb"
      },
      "outputs": [],
      "execution_count": null
    },
    {
      "cell_type": "code",
      "source": [
        "# Box plot of tip by time (Lunch/Dinner)\n",
        "plt.figure(figsize=(10, 6))\n",
        "sns.boxplot(x='time', y='tip', data=tips)\n",
        "plt.title('Box Plot of Tip by Time (Lunch/Dinner)')\n",
        "plt.xlabel('Time')\n",
        "plt.ylabel('Tip')\n",
        "plt.show()\n"
      ],
      "metadata": {
        "trusted": true,
        "id": "rf9vWY5qZkIb"
      },
      "outputs": [],
      "execution_count": null
    },
    {
      "cell_type": "code",
      "source": [
        "# Box plot of total_bill by sex\n",
        "plt.figure(figsize=(10, 6))\n",
        "sns.boxplot(x='sex', y='total_bill', data=tips)\n",
        "plt.title('Box Plot of Total Bill by Sex')\n",
        "plt.xlabel('Sex')\n",
        "plt.ylabel('Total Bill')\n",
        "plt.show()\n"
      ],
      "metadata": {
        "trusted": true,
        "id": "g5zkk59RZkIb"
      },
      "outputs": [],
      "execution_count": null
    },
    {
      "cell_type": "code",
      "source": [
        "# Box plot of tip by sex\n",
        "plt.figure(figsize=(10, 6))\n",
        "sns.boxplot(x='sex', y='tip', data=tips)\n",
        "plt.title('Box Plot of Tip by Sex')\n",
        "plt.xlabel('Sex')\n",
        "plt.ylabel('Tip')\n",
        "plt.show()\n"
      ],
      "metadata": {
        "trusted": true,
        "id": "z029OpZDZkIb"
      },
      "outputs": [],
      "execution_count": null
    },
    {
      "cell_type": "code",
      "source": [
        "# Box plot of total_bill by smoker status\n",
        "plt.figure(figsize=(10, 6))\n",
        "sns.boxplot(x='smoker', y='total_bill', data=tips)\n",
        "plt.title('Box Plot of Total Bill by Smoker Status')\n",
        "plt.xlabel('Smoker Status')\n",
        "plt.ylabel('Total Bill')\n",
        "plt.show()\n"
      ],
      "metadata": {
        "trusted": true,
        "id": "_LqGbmChZkIb"
      },
      "outputs": [],
      "execution_count": null
    },
    {
      "cell_type": "code",
      "source": [
        "# Box plot of tip by smoker status\n",
        "plt.figure(figsize=(10, 6))\n",
        "sns.boxplot(x='smoker', y='tip', data=tips)\n",
        "plt.title('Box Plot of Tip by Smoker Status')\n",
        "plt.xlabel('Smoker Status')\n",
        "plt.ylabel('Tip')\n",
        "plt.show()\n"
      ],
      "metadata": {
        "trusted": true,
        "id": "7orI3HD7ZkIb"
      },
      "outputs": [],
      "execution_count": null
    },
    {
      "cell_type": "markdown",
      "source": [
        "## Linear Regression\n",
        "Linear regression is a fundamental statistical and machine learning technique used to model the relationship between a dependent variable (target) and one or more independent variables (features). The goal is to find the best-fitting line (or hyperplane in higher dimensions) that predicts the target variable based on the features.\n",
        "\n",
        "### Key Concepts\n",
        "\n",
        "1. **Simple Linear Regression**: Involves one independent variable and one dependent variable. The relationship is modeled as a straight line:\n",
        "   $$ y = \\beta_0 + \\beta_1 x + \\epsilon $$\n",
        "   - \\( y \\): Dependent variable (target)\n",
        "   - \\( x \\): Independent variable (feature)\n",
        "   - \\( \\beta_0 \\): Intercept (the value of \\( y \\) when \\( x = 0 \\))\n",
        "   - \\( \\beta_1 \\): Slope (the change in \\( y \\) for a one-unit change in \\( x \\))\n",
        "   - \\( \\epsilon \\): Error term (captures the deviation of the observed values from the predicted values)\n",
        "\n",
        "2. **Multiple Linear Regression**: Involves multiple independent variables. The relationship is modeled as:\n",
        "   $$ y = \\beta_0 + \\beta_1 x_1 + \\beta_2 x_2 + \\ldots + \\beta_n x_n + \\epsilon $$\n",
        "   - \\( x_1, x_2, \\ldots, x_n \\): Independent variables (features)\n",
        "   - \\( \\beta_1, \\beta_2, \\ldots, \\beta_n \\): Coefficients for each feature\n",
        "\n",
        "### Assumptions\n",
        "Linear regression makes several key assumptions:\n",
        "- **Linearity**: The relationship between the independent and dependent variables is linear.\n",
        "- **Independence**: Observations are independent of each other.\n",
        "- **Homoscedasticity**: The residuals (errors) have constant variance at every level of the independent variable.\n",
        "- **Normality**: The residuals are normally distributed.\n",
        "\n",
        "### Model Training\n",
        "Training a linear regression model involves finding the best-fitting line by minimizing the sum of the squared differences between the observed values and the predicted values (least squares method).\n",
        "\n",
        "### Evaluation Metrics\n",
        "Common metrics to evaluate the performance of a linear regression model include:\n",
        "- **Mean Squared Error (MSE)**: The average of the squared differences between the observed and predicted values.\n",
        "- **R-squared (R²)**: The proportion of the variance in the dependent variable that is predictable from the independent variables. It ranges from 0 to 1, with higher values indicating a better fit.\n"
      ],
      "metadata": {
        "id": "8kaSWp0vZkIb"
      }
    },
    {
      "cell_type": "code",
      "source": [
        "import pandas as pd\n",
        "import seaborn as sns\n",
        "from sklearn.model_selection import train_test_split\n",
        "from sklearn.linear_model import LinearRegression\n",
        "from sklearn.metrics import mean_squared_error, r2_score\n",
        "\n",
        "\n",
        "# Load the tips dataset from seaborn\n",
        "tips = sns.load_dataset('tips')\n",
        "\n",
        "# Display the first few rows of the dataset\n",
        "print(tips.head())\n",
        "\n",
        "# Define the feature (X) and target (y)\n",
        "X = tips[['total_bill']]\n",
        "y = tips['tip']\n",
        "\n",
        "# Split the dataset into training and testing sets\n",
        "X_train, X_test, y_train, y_test = train_test_split(X, y, test_size=0.2, random_state=42)\n",
        "\n",
        "# Initialize the Linear Regression model\n",
        "model = LinearRegression()\n",
        "\n",
        "# Train the model on the training data\n",
        "model.fit(X_train, y_train)\n",
        "\n",
        "# Make predictions on the test data\n",
        "y_pred = model.predict(X_test)\n",
        "\n",
        "# Calculate mean squared error and R^2 score\n",
        "mse = mean_squared_error(y_test, y_pred)\n",
        "r2 = r2_score(y_test, y_pred)\n",
        "\n",
        "print(f\"Mean Squared Error: {mse:.2f}\")\n",
        "print(f\"R^2 Score: {r2:.2f}\")\n",
        "\n",
        "# Display the coefficients\n",
        "print(f\"Coefficients: {model.coef_}\")\n",
        "print(f\"Intercept: {model.intercept_}\")"
      ],
      "metadata": {
        "trusted": true,
        "execution": {
          "iopub.status.busy": "2024-11-02T03:32:33.819063Z",
          "iopub.execute_input": "2024-11-02T03:32:33.819523Z",
          "iopub.status.idle": "2024-11-02T03:32:34.212933Z",
          "shell.execute_reply.started": "2024-11-02T03:32:33.819480Z",
          "shell.execute_reply": "2024-11-02T03:32:34.211606Z"
        },
        "id": "ViL90mMfZkIb"
      },
      "outputs": [],
      "execution_count": null
    },
    {
      "cell_type": "code",
      "source": [
        "import matplotlib.pyplot as plt\n",
        "\n",
        "# Create a scatter plot of total_bill vs. tip\n",
        "plt.figure(figsize=(10, 6))\n",
        "sns.scatterplot(x='total_bill', y='tip', data=tips, label='Data Points')\n",
        "\n",
        "# Fit a linear regression model and plot the line\n",
        "sns.regplot(x='total_bill', y='tip', data=tips, scatter=False, label='Linear Fit', color='red')\n",
        "\n",
        "# Add labels and title\n",
        "plt.xlabel('Total Bill')\n",
        "plt.ylabel('Tip')\n",
        "plt.title('Scatter Plot and Linear Fit of Total Bill vs. Tip')\n",
        "plt.legend()\n",
        "\n",
        "# Show the plot\n",
        "plt.show()"
      ],
      "metadata": {
        "trusted": true,
        "execution": {
          "iopub.status.busy": "2024-11-02T03:33:56.091870Z",
          "iopub.execute_input": "2024-11-02T03:33:56.092480Z",
          "iopub.status.idle": "2024-11-02T03:33:56.675109Z",
          "shell.execute_reply.started": "2024-11-02T03:33:56.092434Z",
          "shell.execute_reply": "2024-11-02T03:33:56.673512Z"
        },
        "id": "ohRhAS2WZkIb"
      },
      "outputs": [],
      "execution_count": null
    },
    {
      "cell_type": "markdown",
      "source": [
        "## Exercise\n",
        "Analyze the dataset mpg.\n"
      ],
      "metadata": {
        "id": "NiALpFHDZkIb"
      }
    },
    {
      "cell_type": "code",
      "source": [
        "import seaborn as sns\n",
        "import matplotlib.pyplot as plt\n",
        "\n",
        "# Load the mpg dataset\n",
        "mpg = sns.load_dataset(\"mpg\").dropna()  # Drop rows with missing values\n",
        "\n",
        "# Scatter plot with linear regression line\n",
        "plt.figure(figsize=(8, 6))\n",
        "sns.regplot(x=\"horsepower\", y=\"mpg\", data=mpg, color=\"blue\", line_kws={\"color\": \"red\"})\n",
        "\n",
        "# Add labels and title\n",
        "plt.xlabel(\"Horsepower\")\n",
        "plt.ylabel(\"Miles per Gallon (mpg)\")\n",
        "plt.title(\"Linear Regression of MPG vs Horsepower\")\n",
        "\n",
        "plt.show()\n"
      ],
      "metadata": {
        "trusted": true,
        "execution": {
          "iopub.status.busy": "2024-11-02T03:42:04.914734Z",
          "iopub.execute_input": "2024-11-02T03:42:04.915493Z",
          "iopub.status.idle": "2024-11-02T03:42:05.981433Z",
          "shell.execute_reply.started": "2024-11-02T03:42:04.915431Z",
          "shell.execute_reply": "2024-11-02T03:42:05.979851Z"
        },
        "id": "0oRoY590ZkIb"
      },
      "outputs": [],
      "execution_count": null
    }
  ]
}