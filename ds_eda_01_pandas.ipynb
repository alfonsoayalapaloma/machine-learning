{
  "metadata": {
    "kernelspec": {
      "display_name": "Python 3",
      "language": "python",
      "name": "python3"
    },
    "language_info": {
      "name": "python",
      "version": "3.10.14",
      "mimetype": "text/x-python",
      "codemirror_mode": {
        "name": "ipython",
        "version": 3
      },
      "pygments_lexer": "ipython3",
      "nbconvert_exporter": "python",
      "file_extension": ".py"
    },
    "colab": {
      "provenance": [],
      "include_colab_link": true
    },
    "kaggle": {
      "accelerator": "none",
      "dataSources": [],
      "dockerImageVersionId": 30786,
      "isInternetEnabled": true,
      "language": "python",
      "sourceType": "notebook",
      "isGpuEnabled": false
    }
  },
  "nbformat_minor": 0,
  "nbformat": 4,
  "cells": [
    {
      "cell_type": "markdown",
      "metadata": {
        "id": "view-in-github",
        "colab_type": "text"
      },
      "source": [
        "<a href=\"https://colab.research.google.com/github/alfonsoayalapaloma/ml-2024/blob/main/ds_eda_01_pandas.ipynb\" target=\"_parent\"><img src=\"https://colab.research.google.com/assets/colab-badge.svg\" alt=\"Open In Colab\"/></a>"
      ]
    },
    {
      "cell_type": "markdown",
      "source": [
        "<img src=\"https://pandas.pydata.org/static/img/pandas.svg\" width=\"250\">\n",
        "\n",
        "\n",
        "## <center> Top Pandas Functions"
      ],
      "metadata": {
        "id": "TkhYHMK3WiDN"
      }
    },
    {
      "cell_type": "markdown",
      "source": [
        "## IRIS Dataset\n",
        "\n",
        "The Iris dataset is a classic dataset in the field of machine learning and statistics. It was introduced by the British biologist and statistician Ronald A. Fisher in 1936. Here's a brief overview:\n",
        "\n",
        "### Overview\n",
        "The Iris dataset contains measurements of four features (attributes) for 150 samples of iris flowers from three different species. The goal is often to classify the species based on these features.\n",
        "\n",
        "### Features\n",
        "1. **Sepal Length**: The length of the sepal (in centimeters).\n",
        "2. **Sepal Width**: The width of the sepal (in centimeters).\n",
        "3. **Petal Length**: The length of the petal (in centimeters).\n",
        "4. **Petal Width**: The width of the petal (in centimeters).\n",
        "\n",
        "### Target\n",
        "The dataset includes three species of iris flowers:\n",
        "1. **Iris setosa**\n",
        "2. **Iris versicolor**\n",
        "3. **Iris virginica**\n",
        "\n",
        "Each species has 50 samples in the dataset.\n",
        "\n",
        "### Structure\n",
        "The dataset is structured as follows:\n",
        "- **Rows**: Each row represents a single sample (flower).\n",
        "- **Columns**: Each column represents a feature or the target species.\n",
        "\n",
        "### Example\n",
        "Here's a small sample of what the dataset looks like:\n",
        "\n",
        "| Sepal Length | Sepal Width | Petal Length | Petal Width | Species        |\n",
        "|--------------|-------------|--------------|-------------|----------------|\n",
        "| 5.1          | 3.5         | 1.4          | 0.2         | Iris setosa    |\n",
        "| 7.0          | 3.2         | 4.7          | 1.4         | Iris versicolor|\n",
        "| 6.3          | 3.3         | 6.0          | 2.5         | Iris virginica |\n",
        "\n",
        "### Applications\n",
        "The Iris dataset is commonly used for:\n",
        "- **Classification**: Building models to classify the species of iris flowers based on the features.\n",
        "- **Visualization**: Exploring data visualization techniques, such as scatter plots and histograms.\n",
        "- **Machine Learning**: Testing and comparing different machine learning algorithms.\n",
        "\n",
        "It's a great dataset for beginners to practice data analysis and machine learning techniques due to it.elp with an analysis, feel free to ask!"
      ],
      "metadata": {
        "id": "7CvT8_9YaU4A"
      }
    },
    {
      "cell_type": "code",
      "source": [
        "import pandas as pd\n",
        "import seaborn as sns"
      ],
      "metadata": {
        "id": "77L3b1F2VU2q",
        "trusted": true,
        "execution": {
          "iopub.status.busy": "2024-11-01T22:45:35.013670Z",
          "iopub.execute_input": "2024-11-01T22:45:35.014195Z",
          "iopub.status.idle": "2024-11-01T22:45:36.486748Z",
          "shell.execute_reply.started": "2024-11-01T22:45:35.014151Z",
          "shell.execute_reply": "2024-11-01T22:45:36.485522Z"
        }
      },
      "outputs": [],
      "execution_count": null
    },
    {
      "cell_type": "markdown",
      "source": [
        "#### Import CSV with `pd.read_csv()`"
      ],
      "metadata": {
        "id": "IvmZYbNjWiDT"
      }
    },
    {
      "cell_type": "code",
      "source": [
        "iris = sns.load_dataset('iris')"
      ],
      "metadata": {
        "id": "xIE3_cofWiDT",
        "trusted": true,
        "execution": {
          "iopub.status.busy": "2024-11-01T22:45:36.489530Z",
          "iopub.execute_input": "2024-11-01T22:45:36.490327Z",
          "iopub.status.idle": "2024-11-01T22:45:37.016729Z",
          "shell.execute_reply.started": "2024-11-01T22:45:36.490256Z",
          "shell.execute_reply": "2024-11-01T22:45:37.015436Z"
        }
      },
      "outputs": [],
      "execution_count": null
    },
    {
      "cell_type": "markdown",
      "source": [
        "#### Explore your data"
      ],
      "metadata": {
        "id": "Nvj8xuUzWiDW"
      }
    },
    {
      "cell_type": "code",
      "source": [
        "iris.info()"
      ],
      "metadata": {
        "trusted": true,
        "execution": {
          "iopub.status.busy": "2024-11-01T22:45:37.018363Z",
          "iopub.execute_input": "2024-11-01T22:45:37.018932Z",
          "iopub.status.idle": "2024-11-01T22:45:37.057572Z",
          "shell.execute_reply.started": "2024-11-01T22:45:37.018874Z",
          "shell.execute_reply": "2024-11-01T22:45:37.055812Z"
        },
        "id": "RtdV8r0maU4B",
        "outputId": "d88c6635-bd2e-49b9-edf7-5a169a8db912"
      },
      "outputs": [
        {
          "name": "stdout",
          "text": "<class 'pandas.core.frame.DataFrame'>\nRangeIndex: 150 entries, 0 to 149\nData columns (total 5 columns):\n #   Column        Non-Null Count  Dtype  \n---  ------        --------------  -----  \n 0   sepal_length  150 non-null    float64\n 1   sepal_width   150 non-null    float64\n 2   petal_length  150 non-null    float64\n 3   petal_width   150 non-null    float64\n 4   species       150 non-null    object \ndtypes: float64(4), object(1)\nmemory usage: 6.0+ KB\n",
          "output_type": "stream"
        }
      ],
      "execution_count": null
    },
    {
      "cell_type": "code",
      "source": [
        "iris.shape"
      ],
      "metadata": {
        "id": "TXV-1p8NWiDX",
        "outputId": "14f76cce-644c-4156-9621-9880a8049a61",
        "trusted": true,
        "execution": {
          "iopub.status.busy": "2024-11-01T22:45:37.060158Z",
          "iopub.execute_input": "2024-11-01T22:45:37.060728Z",
          "iopub.status.idle": "2024-11-01T22:45:37.075691Z",
          "shell.execute_reply.started": "2024-11-01T22:45:37.060663Z",
          "shell.execute_reply": "2024-11-01T22:45:37.074361Z"
        }
      },
      "outputs": [
        {
          "execution_count": 5,
          "output_type": "execute_result",
          "data": {
            "text/plain": "(150, 5)"
          },
          "metadata": {}
        }
      ],
      "execution_count": null
    },
    {
      "cell_type": "code",
      "source": [
        "iris.head(3)"
      ],
      "metadata": {
        "id": "6JuCoTLiWiDb",
        "outputId": "79d04477-8498-4b54-b1eb-3b7f2a444df6",
        "trusted": true,
        "execution": {
          "iopub.status.busy": "2024-11-01T22:45:37.078944Z",
          "iopub.execute_input": "2024-11-01T22:45:37.080057Z",
          "iopub.status.idle": "2024-11-01T22:45:37.106212Z",
          "shell.execute_reply.started": "2024-11-01T22:45:37.080007Z",
          "shell.execute_reply": "2024-11-01T22:45:37.104981Z"
        }
      },
      "outputs": [
        {
          "execution_count": 6,
          "output_type": "execute_result",
          "data": {
            "text/plain": "   sepal_length  sepal_width  petal_length  petal_width species\n0           5.1          3.5           1.4          0.2  setosa\n1           4.9          3.0           1.4          0.2  setosa\n2           4.7          3.2           1.3          0.2  setosa",
            "text/html": "<div>\n<style scoped>\n    .dataframe tbody tr th:only-of-type {\n        vertical-align: middle;\n    }\n\n    .dataframe tbody tr th {\n        vertical-align: top;\n    }\n\n    .dataframe thead th {\n        text-align: right;\n    }\n</style>\n<table border=\"1\" class=\"dataframe\">\n  <thead>\n    <tr style=\"text-align: right;\">\n      <th></th>\n      <th>sepal_length</th>\n      <th>sepal_width</th>\n      <th>petal_length</th>\n      <th>petal_width</th>\n      <th>species</th>\n    </tr>\n  </thead>\n  <tbody>\n    <tr>\n      <th>0</th>\n      <td>5.1</td>\n      <td>3.5</td>\n      <td>1.4</td>\n      <td>0.2</td>\n      <td>setosa</td>\n    </tr>\n    <tr>\n      <th>1</th>\n      <td>4.9</td>\n      <td>3.0</td>\n      <td>1.4</td>\n      <td>0.2</td>\n      <td>setosa</td>\n    </tr>\n    <tr>\n      <th>2</th>\n      <td>4.7</td>\n      <td>3.2</td>\n      <td>1.3</td>\n      <td>0.2</td>\n      <td>setosa</td>\n    </tr>\n  </tbody>\n</table>\n</div>"
          },
          "metadata": {}
        }
      ],
      "execution_count": null
    },
    {
      "cell_type": "code",
      "source": [
        "iris.tail(3)"
      ],
      "metadata": {
        "id": "Otk9pUj2WiDe",
        "outputId": "4e1eaa8b-4f79-4b1c-9ab2-d10d961302d6",
        "trusted": true,
        "execution": {
          "iopub.status.busy": "2024-11-01T22:45:37.108084Z",
          "iopub.execute_input": "2024-11-01T22:45:37.108573Z",
          "iopub.status.idle": "2024-11-01T22:45:37.124965Z",
          "shell.execute_reply.started": "2024-11-01T22:45:37.108524Z",
          "shell.execute_reply": "2024-11-01T22:45:37.123412Z"
        }
      },
      "outputs": [
        {
          "execution_count": 7,
          "output_type": "execute_result",
          "data": {
            "text/plain": "     sepal_length  sepal_width  petal_length  petal_width    species\n147           6.5          3.0           5.2          2.0  virginica\n148           6.2          3.4           5.4          2.3  virginica\n149           5.9          3.0           5.1          1.8  virginica",
            "text/html": "<div>\n<style scoped>\n    .dataframe tbody tr th:only-of-type {\n        vertical-align: middle;\n    }\n\n    .dataframe tbody tr th {\n        vertical-align: top;\n    }\n\n    .dataframe thead th {\n        text-align: right;\n    }\n</style>\n<table border=\"1\" class=\"dataframe\">\n  <thead>\n    <tr style=\"text-align: right;\">\n      <th></th>\n      <th>sepal_length</th>\n      <th>sepal_width</th>\n      <th>petal_length</th>\n      <th>petal_width</th>\n      <th>species</th>\n    </tr>\n  </thead>\n  <tbody>\n    <tr>\n      <th>147</th>\n      <td>6.5</td>\n      <td>3.0</td>\n      <td>5.2</td>\n      <td>2.0</td>\n      <td>virginica</td>\n    </tr>\n    <tr>\n      <th>148</th>\n      <td>6.2</td>\n      <td>3.4</td>\n      <td>5.4</td>\n      <td>2.3</td>\n      <td>virginica</td>\n    </tr>\n    <tr>\n      <th>149</th>\n      <td>5.9</td>\n      <td>3.0</td>\n      <td>5.1</td>\n      <td>1.8</td>\n      <td>virginica</td>\n    </tr>\n  </tbody>\n</table>\n</div>"
          },
          "metadata": {}
        }
      ],
      "execution_count": null
    },
    {
      "cell_type": "markdown",
      "source": [
        "#### Datatypes"
      ],
      "metadata": {
        "id": "70jajflKWiDh"
      }
    },
    {
      "cell_type": "code",
      "source": [
        "iris.dtypes"
      ],
      "metadata": {
        "id": "Std5uF_uWiDh",
        "outputId": "b6aaa06f-90d2-4ee5-c925-69dd5b31a8bd",
        "trusted": true,
        "execution": {
          "iopub.status.busy": "2024-11-01T22:45:37.127177Z",
          "iopub.execute_input": "2024-11-01T22:45:37.127774Z",
          "iopub.status.idle": "2024-11-01T22:45:37.140891Z",
          "shell.execute_reply.started": "2024-11-01T22:45:37.127717Z",
          "shell.execute_reply": "2024-11-01T22:45:37.139482Z"
        }
      },
      "outputs": [
        {
          "execution_count": 8,
          "output_type": "execute_result",
          "data": {
            "text/plain": "sepal_length    float64\nsepal_width     float64\npetal_length    float64\npetal_width     float64\nspecies          object\ndtype: object"
          },
          "metadata": {}
        }
      ],
      "execution_count": null
    },
    {
      "cell_type": "markdown",
      "source": [
        "#### Subsetting your data with `loc` & `iloc`"
      ],
      "metadata": {
        "id": "raB47MfDWiDl"
      }
    },
    {
      "cell_type": "code",
      "source": [
        "iris.loc[3:5]"
      ],
      "metadata": {
        "id": "bEEODGN0WiDl",
        "outputId": "346acaa3-9f6e-44c7-bea7-c75918a0c560",
        "trusted": true,
        "execution": {
          "iopub.status.busy": "2024-11-01T22:45:37.142286Z",
          "iopub.execute_input": "2024-11-01T22:45:37.142789Z",
          "iopub.status.idle": "2024-11-01T22:45:37.160922Z",
          "shell.execute_reply.started": "2024-11-01T22:45:37.142734Z",
          "shell.execute_reply": "2024-11-01T22:45:37.158331Z"
        }
      },
      "outputs": [
        {
          "execution_count": 9,
          "output_type": "execute_result",
          "data": {
            "text/plain": "   sepal_length  sepal_width  petal_length  petal_width species\n3           4.6          3.1           1.5          0.2  setosa\n4           5.0          3.6           1.4          0.2  setosa\n5           5.4          3.9           1.7          0.4  setosa",
            "text/html": "<div>\n<style scoped>\n    .dataframe tbody tr th:only-of-type {\n        vertical-align: middle;\n    }\n\n    .dataframe tbody tr th {\n        vertical-align: top;\n    }\n\n    .dataframe thead th {\n        text-align: right;\n    }\n</style>\n<table border=\"1\" class=\"dataframe\">\n  <thead>\n    <tr style=\"text-align: right;\">\n      <th></th>\n      <th>sepal_length</th>\n      <th>sepal_width</th>\n      <th>petal_length</th>\n      <th>petal_width</th>\n      <th>species</th>\n    </tr>\n  </thead>\n  <tbody>\n    <tr>\n      <th>3</th>\n      <td>4.6</td>\n      <td>3.1</td>\n      <td>1.5</td>\n      <td>0.2</td>\n      <td>setosa</td>\n    </tr>\n    <tr>\n      <th>4</th>\n      <td>5.0</td>\n      <td>3.6</td>\n      <td>1.4</td>\n      <td>0.2</td>\n      <td>setosa</td>\n    </tr>\n    <tr>\n      <th>5</th>\n      <td>5.4</td>\n      <td>3.9</td>\n      <td>1.7</td>\n      <td>0.4</td>\n      <td>setosa</td>\n    </tr>\n  </tbody>\n</table>\n</div>"
          },
          "metadata": {}
        }
      ],
      "execution_count": null
    },
    {
      "cell_type": "code",
      "source": [
        "iris.loc[3,'sepal_length']"
      ],
      "metadata": {
        "id": "d-UfD7cNWiDo",
        "outputId": "86072dac-aa5d-4b72-b995-d2adb55cf2ed",
        "trusted": true,
        "execution": {
          "iopub.status.busy": "2024-11-01T22:45:37.163784Z",
          "iopub.execute_input": "2024-11-01T22:45:37.164593Z",
          "iopub.status.idle": "2024-11-01T22:45:37.175819Z",
          "shell.execute_reply.started": "2024-11-01T22:45:37.164533Z",
          "shell.execute_reply": "2024-11-01T22:45:37.174412Z"
        }
      },
      "outputs": [
        {
          "execution_count": 10,
          "output_type": "execute_result",
          "data": {
            "text/plain": "4.6"
          },
          "metadata": {}
        }
      ],
      "execution_count": null
    },
    {
      "cell_type": "code",
      "source": [
        "iris.iloc[3,0]"
      ],
      "metadata": {
        "id": "y9fJU4bOWiDr",
        "outputId": "66f4508e-5ed2-49d1-9838-40e1b5a809b0",
        "trusted": true,
        "execution": {
          "iopub.status.busy": "2024-11-01T22:45:37.177825Z",
          "iopub.execute_input": "2024-11-01T22:45:37.178549Z",
          "iopub.status.idle": "2024-11-01T22:45:37.190215Z",
          "shell.execute_reply.started": "2024-11-01T22:45:37.178505Z",
          "shell.execute_reply": "2024-11-01T22:45:37.188974Z"
        }
      },
      "outputs": [
        {
          "execution_count": 11,
          "output_type": "execute_result",
          "data": {
            "text/plain": "4.6"
          },
          "metadata": {}
        }
      ],
      "execution_count": null
    },
    {
      "cell_type": "markdown",
      "source": [
        "#### Export your data as csv using `to_csv`"
      ],
      "metadata": {
        "id": "0Zr3sarrWiDt"
      }
    },
    {
      "cell_type": "code",
      "source": [
        "iris.to_csv('iris-output.csv',index=False)"
      ],
      "metadata": {
        "id": "LMJ0ZoZPWiDu",
        "trusted": true,
        "execution": {
          "iopub.status.busy": "2024-11-01T22:45:37.192181Z",
          "iopub.execute_input": "2024-11-01T22:45:37.192609Z",
          "iopub.status.idle": "2024-11-01T22:45:37.206661Z",
          "shell.execute_reply.started": "2024-11-01T22:45:37.192570Z",
          "shell.execute_reply": "2024-11-01T22:45:37.203888Z"
        }
      },
      "outputs": [],
      "execution_count": null
    },
    {
      "cell_type": "code",
      "source": [],
      "metadata": {
        "id": "khQM5Y76bvvo",
        "trusted": true
      },
      "outputs": [],
      "execution_count": null
    }
  ]
}